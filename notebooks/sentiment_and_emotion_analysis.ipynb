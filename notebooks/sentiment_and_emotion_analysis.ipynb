{
 "cells": [
  {
   "cell_type": "code",
   "execution_count": null,
   "metadata": {},
   "outputs": [],
   "source": [
    "import pandas as pd\n",
    "import numpy as np\n",
    "import matplotlib.pyplot as plt\n",
    "import seaborn as sns"
   ]
  },
  {
   "cell_type": "code",
   "execution_count": 3,
   "metadata": {},
   "outputs": [],
   "source": [
    "import sys\n",
    "from pathlib import Path\n",
    "sys.path.append(str(Path('.').absolute().parent))\n",
    "\n",
    "from src.helpers import generate_wordcloud\n",
    "from src.templates import neg_templates"
   ]
  },
  {
   "cell_type": "code",
   "execution_count": 13,
   "metadata": {},
   "outputs": [],
   "source": [
    "# model = \"sleng-bert\"\n",
    "# model = \"sloberta-sleng\"\n",
    "model = \"sloberta\"\n",
    "df = pd.read_csv(f\"../{model}/atributes_emotions.csv\") "
   ]
  },
  {
   "cell_type": "code",
   "execution_count": 5,
   "metadata": {},
   "outputs": [],
   "source": [
    "# remove negative templates\n",
    "df = df[~df.template.isin(neg_templates)]"
   ]
  },
  {
   "cell_type": "code",
   "execution_count": null,
   "metadata": {},
   "outputs": [],
   "source": [
    "# atributes not classified\n",
    "df[df.Positive.isna()].atribute.unique()"
   ]
  },
  {
   "cell_type": "markdown",
   "metadata": {},
   "source": [
    "Sentiment and emotion distribution over all atributes"
   ]
  },
  {
   "cell_type": "code",
   "execution_count": null,
   "metadata": {},
   "outputs": [],
   "source": [
    "n = len(df)\n",
    "pos = len(df[df.Positive==1])/n*100\n",
    "neg = len(df[df.Negative==1])/n*100\n",
    "mis = len(df[df.Negative.isna()])/n*100\n",
    "neu = len(df[(df.Negative==0) & (df.Positive==0)])/n*100\n",
    "\n",
    "plt.figure(figsize=(4,3), dpi=200)\n",
    "sns.set_style(\"whitegrid\")\n",
    "ax = sns.barplot(\n",
    "    x=[\"Nevtralno\", \"Pozitivno\", \"Ni v leksikonu\", \"Negativno\"], \n",
    "    y=[neu, pos, mis, neg], \n",
    "    color=\"tab:blue\"\n",
    ")\n",
    "ax.set_ylabel(\"%\")\n",
    "plt.savefig(f\"../{model}/plots/sentiment_distribution_.png\", bbox_inches=\"tight\", dpi=200)"
   ]
  },
  {
   "cell_type": "code",
   "execution_count": null,
   "metadata": {},
   "outputs": [],
   "source": [
    "emotions = ['Trust','Joy','Fear', 'Sadness', 'Anticipation', 'Disgust', 'Anger', 'Surprise']\n",
    "labels = ['Zaupanje', 'Sreča','Strah', 'Žalost  ', '  Pričakovanje   ', 'Gnus', 'Jeza  ', '  Presenečenje']\n",
    "y = []\n",
    "for e in emotions:\n",
    "    y.append(len(df[df[e]==1])/n*100)\n",
    "\n",
    "plt.figure(figsize=(6.5, 3), dpi=200)\n",
    "ax = sns.barplot(x=labels, y=y, color=\"tab:blue\")\n",
    "ax.set_ylabel(\"%\")\n",
    "plt.savefig(f\"../{model}/plots/emotion_distribution_.png\", bbox_inches=\"tight\", dpi=200)"
   ]
  },
  {
   "cell_type": "markdown",
   "metadata": {},
   "source": [
    "Statistical testing\n",
    "- test if any of the groups differ significantly in the amount of negative/positive atributes\n",
    "- we use Friedman test followed by Bonferroni-Dunn test"
   ]
  },
  {
   "cell_type": "code",
   "execution_count": 10,
   "metadata": {},
   "outputs": [],
   "source": [
    "from scipy.stats import friedmanchisquare\n",
    "import scipy.stats as st"
   ]
  },
  {
   "cell_type": "code",
   "execution_count": null,
   "metadata": {},
   "outputs": [],
   "source": [
    "emotion = \"Negative\"\n",
    "all_measurements = []\n",
    "\n",
    "df[\"classified\"] = df[\"Positive\"].notnull()\n",
    "\n",
    "for t in df.template.unique():\n",
    "    df_t = df[df.template==t]\n",
    "    df_grouped = df_t.groupby([\"group\", \"target\"]).sum().reset_index()\n",
    "    df_grouped[emotion] = df_grouped[emotion] / df_grouped[\"classified\"]*100\n",
    "    measurements = df_grouped[emotion].values\n",
    "    all_measurements.append(measurements)\n",
    "\n",
    "groups = df_grouped.target.tolist()\n",
    "scores = pd.DataFrame(all_measurements, columns=groups)\n",
    "group_scores = [] \n",
    "for g in groups:\n",
    "    group_scores.append(scores[g].values)\n",
    "stat, p = friedmanchisquare(*group_scores)\n",
    "print(f\"p-value: {p}\")\n",
    "\n",
    "group_ranks = scores.T.rank().mean(axis=1)\n",
    "group_ranks = group_ranks.sort_values()"
   ]
  },
  {
   "cell_type": "code",
   "execution_count": null,
   "metadata": {},
   "outputs": [],
   "source": [
    "# calculate critical distance\n",
    "k = len(group_ranks)\n",
    "N = len(df.template.unique())\n",
    "alpha = 0.05\n",
    "\n",
    "alpha_c = alpha/(k-1)\n",
    "area = 1-alpha_c/2\n",
    "z = st.norm.ppf(area)\n",
    "cd = z * np.sqrt((k*(k+1))/6*N) \n",
    "print(z)\n",
    "print(cd)"
   ]
  },
  {
   "cell_type": "code",
   "execution_count": null,
   "metadata": {},
   "outputs": [],
   "source": [
    "sns.set_style(\"whitegrid\")\n",
    "plt.figure(figsize=(3,14))\n",
    "\n",
    "upper_lim = group_ranks[\"<mask>\"] + cd\n",
    "lower_lim = group_ranks[\"<mask>\"] - cd\n",
    "clrs = [\n",
    "    'tab:orange' if group==\"<mask>\" else \n",
    "    'tab:blue' if (group_ranks[group] > upper_lim or group_ranks[group] < lower_lim) else \n",
    "    'gray' \n",
    "    for group in group_ranks.index\n",
    "]\n",
    "\n",
    "ax = sns.barplot( \n",
    "    y=group_ranks.index, \n",
    "    x=group_ranks.values, \n",
    "    orient=\"horizontal\",\n",
    "    palette=clrs, \n",
    ")\n",
    "\n",
    "#ax.axvline(avg_ranks[\"<mask>\"] + cd, ls='--', color=\"black\", linewidth=1)\n",
    "#ax.axvline(avg_ranks[\"<mask>\"] - cd, ls='--', color=\"black\", linewidth=1)\n",
    "\n",
    "plt.xlabel(\"Povprečni rang\")\n",
    "plt.ylabel(\"\")\n",
    "plt.title(\"\")\n",
    "#plt.xlim(0)\n",
    "plt.tick_params(axis='both', which='major', labelsize=10)\n",
    "plt.savefig(f\"../{model}/plots/{emotion}_.png\", facecolor=\"white\", bbox_inches=\"tight\", dpi=200)"
   ]
  },
  {
   "cell_type": "markdown",
   "metadata": {},
   "source": [
    "Plot atributes wordcloud colored by sentiment"
   ]
  },
  {
   "cell_type": "code",
   "execution_count": null,
   "metadata": {},
   "outputs": [],
   "source": [
    "group = \"Slovenci\"\n",
    "\n",
    "wordcloud = generate_wordcloud(df, group)\n",
    "\n",
    "fig = plt.figure(figsize=(10,5))\n",
    "plt.imshow(wordcloud)#, interpolation='bilinear')\n",
    "#plt.title(group)\n",
    "plt.tight_layout(pad=0)\n",
    "plt.axis(\"off\")\n",
    "plt.savefig(f\"../{model}/plots/wordcloud_{group}.png\")"
   ]
  }
 ],
 "metadata": {
  "interpreter": {
   "hash": "29e64d5db46e6597ea978d019de65e3bda7a104379b2175b21431af32a65b3f2"
  },
  "kernelspec": {
   "display_name": "Python 3.8.12 ('env1')",
   "language": "python",
   "name": "python3"
  },
  "language_info": {
   "codemirror_mode": {
    "name": "ipython",
    "version": 3
   },
   "file_extension": ".py",
   "mimetype": "text/x-python",
   "name": "python",
   "nbconvert_exporter": "python",
   "pygments_lexer": "ipython3",
   "version": "3.9.7"
  },
  "orig_nbformat": 4
 },
 "nbformat": 4,
 "nbformat_minor": 2
}
