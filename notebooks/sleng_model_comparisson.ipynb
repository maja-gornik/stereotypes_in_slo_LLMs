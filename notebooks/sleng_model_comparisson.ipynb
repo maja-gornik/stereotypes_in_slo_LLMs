{
 "cells": [
  {
   "cell_type": "code",
   "execution_count": 13,
   "metadata": {},
   "outputs": [],
   "source": [
    "import pandas as pd\n",
    "import matplotlib.pyplot as plt\n",
    "import seaborn as sns"
   ]
  },
  {
   "cell_type": "code",
   "execution_count": 14,
   "metadata": {},
   "outputs": [],
   "source": [
    "import sys\n",
    "from pathlib import Path\n",
    "sys.path.append(str(Path('.').absolute().parent))\n",
    "\n",
    "from src.templates import neg_templates"
   ]
  },
  {
   "cell_type": "code",
   "execution_count": 15,
   "metadata": {},
   "outputs": [],
   "source": [
    "model_names = [\"SloBERTa\",  \"SloBERTa-SlEng\", \"SlEng-BERT\"]"
   ]
  },
  {
   "cell_type": "code",
   "execution_count": 16,
   "metadata": {},
   "outputs": [],
   "source": [
    "df_models = []\n",
    "for model_name in model_names:\n",
    "    df_model = pd.read_csv(f\"../{model_name.lower()}/atributes_emotions.csv\")\n",
    "    df_model[\"model\"] = model_name\n",
    "    df_models.append(df_model)\n",
    "\n",
    "df_all = pd.concat(df_models)"
   ]
  },
  {
   "cell_type": "code",
   "execution_count": 17,
   "metadata": {},
   "outputs": [],
   "source": [
    "df_all = df_all[~df_all.template.isin(neg_templates)]"
   ]
  },
  {
   "cell_type": "markdown",
   "metadata": {},
   "source": [
    "Compare sentiment and emotion distributions for different models"
   ]
  },
  {
   "cell_type": "code",
   "execution_count": 18,
   "metadata": {},
   "outputs": [],
   "source": [
    "def get_sentiment(row):\n",
    "    if row.Positive==1:\n",
    "        return \"Pozitiven\"\n",
    "    if row.Negative==1:\n",
    "        return \"Negativen\"\n",
    "    if row.Positive==0 and row.Negative==0:\n",
    "        return \"Nevtralen\"\n",
    "    return \"Ni v leksikonu\"\n",
    "\n",
    "df_all[\"Sentiment\"] = df_all.apply(lambda x: get_sentiment(x), axis=1)"
   ]
  },
  {
   "cell_type": "code",
   "execution_count": 19,
   "metadata": {},
   "outputs": [],
   "source": [
    "size = df_all.groupby(\"model\").size().reset_index(name=\"N\")\n",
    "df_all = df_all.join(size.set_index(\"model\"), on=\"model\")"
   ]
  },
  {
   "cell_type": "code",
   "execution_count": null,
   "metadata": {},
   "outputs": [],
   "source": [
    "grouped = df_all.groupby([\"model\",\"Sentiment\",\"N\"]).size().reset_index(name=\"n_sent\")\n",
    "grouped[\"percent\"] = grouped[\"n_sent\"]/grouped[\"N\"]*100\n",
    "grouped"
   ]
  },
  {
   "cell_type": "code",
   "execution_count": null,
   "metadata": {},
   "outputs": [],
   "source": [
    "plt.figure(figsize=(6,3), dpi=200)\n",
    "sns.set_style(\"whitegrid\")\n",
    "\n",
    "ax = sns.barplot(\n",
    "    x=grouped[\"Sentiment\"], \n",
    "    y=grouped[\"percent\"], \n",
    "    hue=grouped[\"model\"],\n",
    "    hue_order=model_names,\n",
    "    order=[\"Nevtralen\", \"Pozitiven\", \"Ni v leksikonu\", \"Negativen\"],\n",
    "    palette=[\"tab:blue\", \"tab:green\", \"tab:orange\"],\n",
    ")\n",
    "ax.set_ylabel(\"%\")\n",
    "ax.legend(loc='center left', bbox_to_anchor=(1, 0.5), framealpha=0)\n",
    "#plt.setp(ax.get_legend().get_texts(), fontsize='8') # for legend text\n",
    "plt.savefig(f\"../plots/sentiment_models.png\", bbox_inches=\"tight\", dpi=200)"
   ]
  },
  {
   "cell_type": "code",
   "execution_count": null,
   "metadata": {},
   "outputs": [],
   "source": [
    "emotions = ['Trust','Joy','Fear', 'Sadness', 'Anticipation', 'Disgust', 'Anger', 'Surprise']\n",
    "labels = ['Zaupanje', 'Sreča','Strah', 'Žalost  ', '  Pričakovanje   ', 'Gnus', 'Jeza  ', '  Presenečenje']\n",
    "\n",
    "y = []\n",
    "\n",
    "for m in model_names:\n",
    "    df_m = df_all[df_all.model==m]\n",
    "    n = len(df_m)\n",
    "    for e in emotions:\n",
    "        p = len(df_m[df_m[e]==1])/n*100\n",
    "        y.append({\"model\":m, \"emotion\":e, \"percent\":p})\n",
    "\n",
    "df_emo = pd.DataFrame(y)\n",
    "df_emo"
   ]
  },
  {
   "cell_type": "code",
   "execution_count": null,
   "metadata": {},
   "outputs": [],
   "source": [
    "plt.figure()\n",
    "sns.set_style(\"whitegrid\")\n",
    "\n",
    "ax = sns.barplot(\n",
    "    data = df_emo,\n",
    "    x=\"emotion\", \n",
    "    y=\"percent\", \n",
    "    hue=\"model\",\n",
    "    hue_order=model_names,\n",
    ")\n",
    "ax.set_ylabel(\"%\")"
   ]
  },
  {
   "cell_type": "markdown",
   "metadata": {},
   "source": [
    "Compare atributes obtained with different models"
   ]
  },
  {
   "cell_type": "code",
   "execution_count": null,
   "metadata": {},
   "outputs": [],
   "source": [
    "groups = [\"Slovenci\", \"muslimani\", \"Arabci\", \"cigani\", \"migranti\",  \"priseljeneci\", \"bogataši\", \"brezposelni\"]\n",
    "\n",
    "fig = plt.figure(figsize=(17,3*len(groups)))\n",
    "fig.tight_layout()\n",
    "\n",
    "for i, g in enumerate(groups):\n",
    "    for j, model in enumerate(model_names):      \n",
    "        img = plt.imread(f\"../{model.lower()}/plots/wordcloud_{g}_tfidf.png\")        \n",
    "        ax = fig.add_subplot(len(groups), 3, (i)*3 + (j+1))\n",
    "        plt.imshow(img)\n",
    "        if i==0:\n",
    "            names = model_names\n",
    "            plt.title(names[j], fontsize=22, pad=16)\n",
    "        if j==0:\n",
    "            plt.ylabel(g, fontsize=22, labelpad=1)\n",
    "        plt.grid(False)\n",
    "        plt.box(False)\n",
    "        ax.axes.get_xaxis().set_ticks([])\n",
    "        ax.axes.get_yaxis().set_ticks([])\n",
    "\n",
    "plt.tight_layout()\n",
    "plt.subplots_adjust(wspace=-0.02, hspace=0)\n",
    "plt.savefig(\"../plots/wordcloud_sleng_models.png\", bbox_inches=\"tight\", dpi=200)"
   ]
  }
 ],
 "metadata": {
  "interpreter": {
   "hash": "29e64d5db46e6597ea978d019de65e3bda7a104379b2175b21431af32a65b3f2"
  },
  "kernelspec": {
   "display_name": "Python 3.8.12 ('env1')",
   "language": "python",
   "name": "python3"
  },
  "language_info": {
   "codemirror_mode": {
    "name": "ipython",
    "version": 3
   },
   "file_extension": ".py",
   "mimetype": "text/x-python",
   "name": "python",
   "nbconvert_exporter": "python",
   "pygments_lexer": "ipython3",
   "version": "3.9.7"
  },
  "orig_nbformat": 4
 },
 "nbformat": 4,
 "nbformat_minor": 2
}
