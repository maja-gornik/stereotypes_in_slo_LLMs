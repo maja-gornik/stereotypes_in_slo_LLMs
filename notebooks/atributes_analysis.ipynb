{
 "cells": [
  {
   "cell_type": "code",
   "execution_count": 13,
   "metadata": {},
   "outputs": [],
   "source": [
    "import pandas as pd\n",
    "import numpy as np\n",
    "import matplotlib.pyplot as plt\n",
    "import seaborn as sns\n",
    "from lemmagen3 import Lemmatizer"
   ]
  },
  {
   "cell_type": "code",
   "execution_count": 3,
   "metadata": {},
   "outputs": [],
   "source": [
    "import sys\n",
    "from pathlib import Path\n",
    "sys.path.append(str(Path('.').absolute().parent))\n",
    "\n",
    "from src.helpers import generate_wordcloud, clean_data\n",
    "from src.templates import neg_templates, groups_dict"
   ]
  },
  {
   "cell_type": "code",
   "execution_count": 4,
   "metadata": {},
   "outputs": [],
   "source": [
    "#model = \"sleng-bert\"\n",
    "#model = \"sloberta-sleng\"\n",
    "model = \"sloberta\"\n",
    "df = pd.read_csv(f\"../{model}/atributes_emotions.csv\")"
   ]
  },
  {
   "cell_type": "code",
   "execution_count": 14,
   "metadata": {},
   "outputs": [],
   "source": [
    "lemmatizer = Lemmatizer('sl')\n",
    "df[\"atribute_l\"] = df[\"atribute\"].apply(lambda x: lemmatizer.lemmatize(x))\n",
    "df[\"atribute_l\"] = df.atribute_l.str.lower()"
   ]
  },
  {
   "cell_type": "code",
   "execution_count": null,
   "metadata": {},
   "outputs": [],
   "source": [
    "n=10\n",
    "group=\"Slovenci\"\n",
    "t = \"[TARGET] so zelo [MASK].\"\n",
    "#t = \"[TARGET] so ponavadi zelo [MASK].\"\n",
    "#t = \"Vsi [TARGET] so tako [MASK].\"\n",
    "#t = \"Vsi [TARGET] so [MASK].\"\n",
    "\n",
    "df_example = pd.DataFrame()\n",
    "df_all = pd.read_csv(f\"../{model}/top_atributes_all.csv\")\n",
    "df_sub = df_all[(df_all.target==group) & (df_all.template==t)]\n",
    "df_clean = clean_data(df_sub)\n",
    "\n",
    "\n",
    "df_example[\"Prvotne\"] = df_sub.sort_values(\"prob\", ascending=False).head(n).atribute.values\n",
    "df_example[\"Prečiščene\"] = df_clean.sort_values(\"prob\", ascending=False).head(n).atribute.values\n",
    "df_example[\"Prerazvrščene\"] = df_clean.sort_values(\"score\", ascending=False).head(n).atribute.values\n",
    "print(df_example.to_latex(index=False))"
   ]
  },
  {
   "cell_type": "code",
   "execution_count": null,
   "metadata": {},
   "outputs": [],
   "source": [
    "t = \"Zakaj so [TARGET] tako [MASK]?\"\n",
    "#t = \"[TARGET] so vedno [MASK].\"\n",
    "groups = [\"Slovenci\", \"Hrvati\", \"Nemci\", \"moški\", \"ženske\", \"muslimani\", \"Romi\"]\n",
    "\n",
    "df_s = df[df.template==t].sort_values(by=\"score\", ascending=False)\n",
    "df_top = pd.DataFrame() \n",
    "for g in groups:\n",
    "    df_top[g] = df_s[df_s.target==g].drop_duplicates(subset=\"atribute\").head(20).atribute.values\n",
    "\n",
    "df_top\n",
    "#print(df_top.to_latex(index=False))"
   ]
  },
  {
   "cell_type": "code",
   "execution_count": null,
   "metadata": {},
   "outputs": [],
   "source": [
    "# atributes for different sentences and one group\n",
    "\n",
    "group = \"Slovenci\"\n",
    "sentences = [\n",
    "    \"Zakaj so [TARGET] tako [MASK]?\",\n",
    "    \"[TARGET] so [MASK].\",\n",
    "    \"[TARGET] so vedno tako [MASK].\",\n",
    "    \"[TARGET] niso [MASK].\",\n",
    "    \"[TARGET] so zelo [MASK].\",\n",
    "    \"[TARGET] so ponavadi zelo [MASK].\",\n",
    "]\n",
    "\n",
    "df_s = df[df.target==group].sort_values(by=\"score\", ascending=False)[[\"template\", \"atribute\"]].drop_duplicates()\n",
    "df_top = pd.DataFrame() \n",
    "\n",
    "for s in sentences:\n",
    "    df_top[s] = df_s[df_s.template==s].head(20).atribute.values\n",
    "\n",
    "df_top\n",
    "#print(df_top.to_latex(index=False))\n",
    "\n",
    "\n",
    "# atrs=[]\n",
    "# for s in sentences:\n",
    "#     atrs += df_s[df_s.template==s].head(20).atribute.values.tolist()\n",
    "# pd.DataFrame(atrs).value_counts().head(10)\n"
   ]
  },
  {
   "cell_type": "markdown",
   "metadata": {},
   "source": [
    "Similarity between sets of atributes obtained with different sentences"
   ]
  },
  {
   "cell_type": "code",
   "execution_count": 10,
   "metadata": {},
   "outputs": [],
   "source": [
    "from src.helpers import jaccard\n",
    "from src.templates import templates"
   ]
  },
  {
   "cell_type": "code",
   "execution_count": null,
   "metadata": {},
   "outputs": [],
   "source": [
    "n = len(templates)\n",
    "targets = df[\"target\"].unique()\n",
    "\n",
    "all_dist = np.zeros((n, n))\n",
    "\n",
    "for target in targets:\n",
    "    df_sub = df[df.target==target]\n",
    "    dist = np.zeros((n,n))\n",
    "\n",
    "    for i, s1 in enumerate(templates):\n",
    "        for j, s2 in enumerate(templates):\n",
    "            atr1 = df_sub[df_sub.template==s1].sort_values(by=\"score\", ascending=False).atribute_l\n",
    "            atr2 = df_sub[df_sub.template==s2].sort_values(by=\"score\", ascending=False).atribute_l\n",
    "            d = jaccard(atr1, atr2)\n",
    "            dist[i, j] = d\n",
    "    all_dist = all_dist + dist\n",
    "all_dist = all_dist/len(targets)\n",
    "\n",
    "labels = [q.replace(\"TARGET\", \"SK\") for q in templates]\n",
    "cm = sns.clustermap(\n",
    "    all_dist, \n",
    "    linewidth=0.5, \n",
    "    xticklabels=labels, \n",
    "    yticklabels=labels, \n",
    "    vmin=0, vmax=1, \n",
    "    cmap=\"Blues\", \n",
    "    #cbar_kws={\"use_gridspec\":False, \"location\":\"top\"}\n",
    "    cbar_pos=(0.07, .4, .03, .37)\n",
    ")\n",
    "cm.ax_row_dendrogram.set_visible(False) \n",
    "cm.ax_col_dendrogram.set_visible(False) \n",
    "cm.figure.savefig(f\"../{model}/plots/template_similarity_lemma.png\", facecolor=\"white\", bbox_inches=\"tight\", dpi=200)"
   ]
  },
  {
   "cell_type": "code",
   "execution_count": 35,
   "metadata": {},
   "outputs": [],
   "source": [
    "sent = df[[\"target\", \"template\"]].drop_duplicates()\n",
    "targets = df[\"target\"].unique()\n",
    "templates = df[\"template\"].unique()\n",
    "questions = [s for s in templates if \"?\" in s]"
   ]
  },
  {
   "cell_type": "code",
   "execution_count": 36,
   "metadata": {},
   "outputs": [],
   "source": [
    "# with which sentence are differences between groups the largest\n",
    "# (which sentence is best for detecting differences between groups?)\n",
    "\n",
    "sent_dist = {}\n",
    "for temp in templates:\n",
    "    sent_dist[temp] = []\n",
    "    for i in range(len(targets)):\n",
    "        for j in range(i+1, len(targets)):\n",
    "            atr1 = df[(df.template==temp) & (df.target==targets[i])].atribute_l\n",
    "            atr2 = df[(df.template==temp) & (df.target==targets[j])].atribute_l\n",
    "            dist = jaccard(atr1, atr2)\n",
    "            sent_dist[temp].append(dist)"
   ]
  },
  {
   "cell_type": "code",
   "execution_count": null,
   "metadata": {},
   "outputs": [],
   "source": [
    "plot_dict = []\n",
    "for key, val in sent_dist.items():\n",
    "    plot_dict.append({\"sent\":key, \"dist\":val})\n",
    "plot_df = pd.DataFrame(plot_dict)\n",
    "plot_df = plot_df.explode(\"dist\")\n",
    "\n",
    "plt.figure(figsize=(4,8))\n",
    "sns.pointplot(x=plot_df[\"dist\"], y=plot_df[\"sent\"], ci=\"sd\", join=False)\n",
    "#sns.boxplot(x=plot_df[\"dist\"], y=plot_df[\"sent\"], color=\"tab:blue\")"
   ]
  },
  {
   "cell_type": "code",
   "execution_count": 174,
   "metadata": {},
   "outputs": [],
   "source": [
    "### inter group distance vs inter template distance vs mixed\n",
    "\n",
    "same_target_dist = {}\n",
    "same_temp_dist = {}\n",
    "mixed_dist = {}\n",
    "\n",
    "# same target, different sentence\n",
    "for t in targets:\n",
    "    for i in range(len(templates)):\n",
    "        for j in range(i+1, len(templates)):\n",
    "            atr1 = df[(df.template==templates[i]) & (df.target==t)].atribute_l\n",
    "            atr2 = df[(df.template==templates[j]) & (df.target==t)].atribute_l\n",
    "            dist = jaccard(atr1, atr2)\n",
    "            same_target_dist[(t, templates[i], templates[j])] = dist\n",
    "\n",
    "# same template, different target\n",
    "for temp in templates:\n",
    "    for i in range(len(targets)):\n",
    "        for j in range(i+1, len(targets)):\n",
    "            atr1 = df[(df.template==temp) & (df.target==targets[i])].atribute_l\n",
    "            atr2 = df[(df.template==temp) & (df.target==targets[j])].atribute_l\n",
    "            dist = jaccard(atr1, atr2)\n",
    "            same_temp_dist[(temp, targets[i], targets[j])] = dist\n",
    "\n",
    "\n",
    "# randomly pick two sentences with different target and different template\n",
    "while len(mixed_dist) < 10000:\n",
    "    pair = sent.sample(n=2, replace=False)\n",
    "    temp1 = pair.iloc[0].template\n",
    "    temp2 = pair.iloc[1].template\n",
    "    targ1 = pair.iloc[0].target\n",
    "    targ2 = pair.iloc[1].target\n",
    "    if temp1==temp2 or targ1==targ2:\n",
    "        continue\n",
    "\n",
    "    atr1 = df[(df.template==temp1) & (df.target==targ1)].atribute_l\n",
    "    atr2 = df[(df.template==temp2) & (df.target==targ2)].atribute_l\n",
    "    dist = jaccard(atr1, atr2)\n",
    "    mixed_dist[(temp1, temp2, targ1, targ2)] = dist"
   ]
  },
  {
   "cell_type": "code",
   "execution_count": null,
   "metadata": {},
   "outputs": [],
   "source": [
    "d_all = pd.DataFrame({\"dist\":same_target_dist, \"type\":\"enaka skupina, drugačen stavek\"})\n",
    "d_all = d_all.append(pd.DataFrame({\"dist\":same_temp_dist, \"type\":\"drugačna skupina, enak stavek\"}))\n",
    "d_all = d_all.append(pd.DataFrame({\"dist\":mixed_dist, \"type\":\"drugačna skupina, drugačen stavek\"}))"
   ]
  },
  {
   "cell_type": "code",
   "execution_count": null,
   "metadata": {},
   "outputs": [],
   "source": [
    "plt.figure(figsize=(7,3))\n",
    "#sns.pointplot(x=d[\"dist\"], y=d[\"type\"], ci=\"sd\", join=False)\n",
    "sns.boxplot(x=d_all[\"dist\"], y=d_all[\"type\"], color=\"tab:blue\")\n",
    "#sns.pointplot(x=d_ques[\"dist\"], y=d_ques[\"type\"], color=\"tab:blue\")\n",
    "plt.xlabel(\"Jaccardova podobnost\")\n",
    "plt.ylabel(\"\")\n",
    "plt.savefig(f\"../{model}/plots/podobnost_stavkov_boxplot_lemma.png\", bbox_inches=\"tight\", facecolor=\"white\", dpi=150)"
   ]
  },
  {
   "cell_type": "markdown",
   "metadata": {},
   "source": [
    "TF-IDF atribute importance"
   ]
  },
  {
   "cell_type": "code",
   "execution_count": 26,
   "metadata": {},
   "outputs": [],
   "source": [
    "from src.helpers import get_tf_idf_scores, generate_wordcloud_tfidf"
   ]
  },
  {
   "cell_type": "code",
   "execution_count": 20,
   "metadata": {},
   "outputs": [],
   "source": [
    "df_sub = df[~df.template.isin(neg_templates)]\n",
    "df_tfidf = get_tf_idf_scores(df_sub)"
   ]
  },
  {
   "cell_type": "code",
   "execution_count": null,
   "metadata": {},
   "outputs": [],
   "source": [
    "df_tfidf"
   ]
  },
  {
   "cell_type": "code",
   "execution_count": null,
   "metadata": {},
   "outputs": [],
   "source": [
    "groups = [\"Slovenci\", \"Hrvati\", \"Nemci\", \"moški\", \"ženske\", \"muslimani\", \"Romi\"]\n",
    "top = pd.DataFrame()\n",
    "for g in groups:\n",
    "    top[g]= df_tfidf[df_tfidf.target==g].sort_values(\"tf_idf\", ascending=False).head(20).atribute_l.values\n",
    "top\n",
    "#print(top.to_latex(index=False))"
   ]
  },
  {
   "cell_type": "code",
   "execution_count": null,
   "metadata": {},
   "outputs": [],
   "source": [
    "groups = df.target.unique()\n",
    "groups = [\"Slovenci\"]\n",
    "\n",
    "for group in groups:\n",
    "    if group==\"<mask>\":\n",
    "        continue\n",
    "    w = generate_wordcloud_tfidf(df, df_tfidf, group)\n",
    "\n",
    "    fig = plt.figure(figsize=(10,5))\n",
    "    plt.imshow(w)\n",
    "    #plt.title(group)\n",
    "    plt.tight_layout(pad=0)\n",
    "    plt.axis(\"off\")\n",
    "    plt.savefig(f\"../{model}/plots/wordcloud_{group}_tfidf.png\")"
   ]
  },
  {
   "cell_type": "markdown",
   "metadata": {},
   "source": [
    "Similarities between social groups and clustering"
   ]
  },
  {
   "cell_type": "code",
   "execution_count": 29,
   "metadata": {},
   "outputs": [],
   "source": [
    "from sklearn.metrics.pairwise import cosine_similarity\n",
    "from scipy.cluster.hierarchy import dendrogram, linkage"
   ]
  },
  {
   "cell_type": "code",
   "execution_count": 27,
   "metadata": {},
   "outputs": [],
   "source": [
    "df_pivot = df_tfidf.pivot(index=\"target\", columns=\"atribute_l\", values=\"tf_idf\").fillna(0)\n",
    "df_pivot = df_pivot.drop([\"<mask>\", \"ljudje\", \"državljani\", \"domačini\"])\n",
    "cosine_similarities = cosine_similarity(df_pivot)"
   ]
  },
  {
   "cell_type": "code",
   "execution_count": null,
   "metadata": {},
   "outputs": [],
   "source": [
    "\n",
    "sns.set(font_scale=0.8)\n",
    "plt.rcParams['xtick.major.size'] = 4\n",
    "plt.rcParams['xtick.major.width'] = 1\n",
    "plt.rcParams['ytick.major.size'] = 4\n",
    "plt.rcParams['ytick.major.width'] = 1\n",
    "\n",
    "cm = sns.clustermap(\n",
    "     cosine_similarities,\n",
    "     linewidth=0.7, \n",
    "     xticklabels=df_pivot.index, \n",
    "     yticklabels=df_pivot.index, \n",
    "     vmin=0, vmax=1, \n",
    "     cmap=\"Blues\",\n",
    "     cbar_kws=dict(orientation='horizontal'),\n",
    "     cbar_pos=(0.35, 0.85, .4, .02), \n",
    "     figsize=(13,13), \n",
    "     method=\"average\"\n",
    ")\n",
    "cm.ax_row_dendrogram.set_visible(False) \n",
    "cm.ax_col_dendrogram.set_visible(False) \n",
    "cm.ax_heatmap.tick_params(right=True, bottom=True)\n",
    "\n",
    "\n",
    "plt.savefig(f\"../{model}/plots/group_similarity_tfidf_.png\", bbox_inches=\"tight\", facecolor=\"white\", dpi=200)\n"
   ]
  },
  {
   "cell_type": "code",
   "execution_count": null,
   "metadata": {},
   "outputs": [],
   "source": [
    "sns.set_style(\"white\")\n",
    "\n",
    "Z = linkage(cosine_similarities, 'average')\n",
    "\n",
    "plt.figure(figsize=(7,17))\n",
    "dn = dendrogram(Z, labels=df_pivot.index, orientation=\"left\", color_threshold=1.4, leaf_font_size=13 )\n",
    "#plt.show()\n",
    "plt.savefig(f\"../{model}/plots/dendrogram_average.png\", bbox_inches=\"tight\", facecolor=\"white\", dpi=200)"
   ]
  },
  {
   "cell_type": "code",
   "execution_count": null,
   "metadata": {},
   "outputs": [],
   "source": [
    "targets = df.target.unique()\n",
    "for t in targets:\n",
    "    a = df_tfidf[df_tfidf.target==t].sort_values(\"tf_idf\", ascending=False).head(20).atribute_l.values\n",
    "    print(f\"\\item[{t}:] {', '.join(a)}\")"
   ]
  }
 ],
 "metadata": {
  "interpreter": {
   "hash": "29e64d5db46e6597ea978d019de65e3bda7a104379b2175b21431af32a65b3f2"
  },
  "kernelspec": {
   "display_name": "Python 3.8.12 ('env1')",
   "language": "python",
   "name": "python3"
  },
  "language_info": {
   "codemirror_mode": {
    "name": "ipython",
    "version": 3
   },
   "file_extension": ".py",
   "mimetype": "text/x-python",
   "name": "python",
   "nbconvert_exporter": "python",
   "pygments_lexer": "ipython3",
   "version": "3.9.7"
  },
  "orig_nbformat": 4
 },
 "nbformat": 4,
 "nbformat_minor": 2
}
